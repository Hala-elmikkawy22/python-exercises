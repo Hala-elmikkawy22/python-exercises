{
 "cells": [
  {
   "cell_type": "code",
   "execution_count": 1,
   "id": "e79a2c3e-f9da-481a-8336-3fd220e6620c",
   "metadata": {},
   "outputs": [],
   "source": [
    "#Manipulate data in  a dictionary"
   ]
  },
  {
   "cell_type": "code",
   "execution_count": 7,
   "id": "34a15986-fa06-49eb-9657-97238930b31e",
   "metadata": {},
   "outputs": [],
   "source": [
    "person={'name':' alice', 'age':25 , 'grade' : 'A'} "
   ]
  },
  {
   "cell_type": "code",
   "execution_count": 8,
   "id": "5e2084f2-a836-40dc-8c03-fefa13fd4601",
   "metadata": {},
   "outputs": [
    {
     "name": "stdout",
     "output_type": "stream",
     "text": [
      "{'name': ' alice', 'age': 25, 'grade': 'A'}\n"
     ]
    }
   ],
   "source": [
    "print(person)"
   ]
  },
  {
   "cell_type": "code",
   "execution_count": 3,
   "id": "8c99e5af-e6e8-4d5b-900e-84177528d3bb",
   "metadata": {},
   "outputs": [],
   "source": [
    "#adding address\n",
    "person['address']='1234 main St'"
   ]
  },
  {
   "cell_type": "code",
   "execution_count": 4,
   "id": "dcbdde26-7163-4887-a07c-21117256a228",
   "metadata": {},
   "outputs": [],
   "source": [
    "#updating age \n",
    "person['age']=30"
   ]
  },
  {
   "cell_type": "code",
   "execution_count": 5,
   "id": "210b8895-09cd-4743-8d8a-a7d5916b2cf2",
   "metadata": {},
   "outputs": [],
   "source": [
    "#removing grade\n",
    "del person['grade']"
   ]
  },
  {
   "cell_type": "code",
   "execution_count": 6,
   "id": "0603272b-d77b-4f24-9a16-2a316974db67",
   "metadata": {},
   "outputs": [
    {
     "name": "stdout",
     "output_type": "stream",
     "text": [
      "{'name': ' alice', 'age': 30, 'address': '1234 main St'}\n"
     ]
    }
   ],
   "source": [
    "print(person)"
   ]
  },
  {
   "cell_type": "code",
   "execution_count": null,
   "id": "bdd397ae-42c1-4752-8190-8d638f4d2391",
   "metadata": {},
   "outputs": [],
   "source": []
  },
  {
   "cell_type": "code",
   "execution_count": 9,
   "id": "7db95eff-7fc1-475f-ad7d-1602c9747ece",
   "metadata": {},
   "outputs": [],
   "source": [
    "# Word Frequance Counter"
   ]
  },
  {
   "cell_type": "code",
   "execution_count": 12,
   "id": "11f320f6-f17d-4e58-a287-0b3a0b381f50",
   "metadata": {},
   "outputs": [
    {
     "name": "stdin",
     "output_type": "stream",
     "text": [
      "enter a sentence the AI engineer is the engineer of the futrue who would work on different ai projects and buid amazing tools\n"
     ]
    },
    {
     "name": "stdout",
     "output_type": "stream",
     "text": [
      "{'the': 3, 'ai': 2, 'engineer': 2, 'is': 1, 'of': 1, 'futrue': 1, 'who': 1, 'would': 1, 'work': 1, 'on': 1, 'different': 1, 'projects': 1, 'and': 1, 'buid': 1, 'amazing': 1, 'tools': 1}\n"
     ]
    }
   ],
   "source": [
    "sentence = input(\"enter a sentence\")\n",
    "\n",
    "#split the sentence into words\n",
    "words = sentence.split()\n",
    "\n",
    "#initialization dictionary\n",
    "word_count = {}\n",
    "#count word frequency\n",
    "for word in words:\n",
    "    word = word.lower()\n",
    "    if word in word_count:\n",
    "        word_count[word] += 1\n",
    "    else:\n",
    "        word_count[word] = 1\n",
    "print(word_count)"
   ]
  },
  {
   "cell_type": "code",
   "execution_count": null,
   "id": "bb6f011d-001d-4d35-939a-f9604bde16c3",
   "metadata": {},
   "outputs": [],
   "source": []
  },
  {
   "cell_type": "code",
   "execution_count": 2,
   "id": "71757354-68c7-45c7-993a-351078e9b6e9",
   "metadata": {},
   "outputs": [],
   "source": [
    "#program to reverse a list and remove duplicates using a set"
   ]
  },
  {
   "cell_type": "code",
   "execution_count": 3,
   "id": "e3a70c4b-9e4b-46d2-81f6-6d2debc488b5",
   "metadata": {},
   "outputs": [
    {
     "name": "stdout",
     "output_type": "stream",
     "text": [
      "[3, 4, 5, 4, 3, 2, 1]\n"
     ]
    }
   ],
   "source": [
    "list=[1, 2, 3, 4, 5 ,4 ,3]\n",
    "rev_list=list[::-1]\n",
    "print(rev_list)"
   ]
  },
  {
   "cell_type": "code",
   "execution_count": 4,
   "id": "59cc119b-cc1d-4cc0-b9e1-27ed4c2ab96d",
   "metadata": {},
   "outputs": [
    {
     "name": "stdout",
     "output_type": "stream",
     "text": [
      "{1, 2, 3, 4, 5}\n"
     ]
    }
   ],
   "source": [
    "set_num=set(list)\n",
    "print(set_num)"
   ]
  },
  {
   "cell_type": "code",
   "execution_count": null,
   "id": "8d7bbe5a-38d9-4908-b1ff-30aa1e0aa036",
   "metadata": {},
   "outputs": [],
   "source": []
  },
  {
   "cell_type": "code",
   "execution_count": 5,
   "id": "e0d22fe7-8b62-472b-bc49-8b5b7fce1bbe",
   "metadata": {},
   "outputs": [],
   "source": [
    "#program that store student grades in a dictionary and calculates the avarge grade"
   ]
  },
  {
   "cell_type": "code",
   "execution_count": 8,
   "id": "6f0c67ae-3ae5-49a6-846d-27c16d620340",
   "metadata": {},
   "outputs": [
    {
     "name": "stdin",
     "output_type": "stream",
     "text": [
      "enter the number of students 5\n",
      "enter name of student1:  alice\n",
      "enter the grade for alice:  98\n",
      "enter name of student2:  lolo\n",
      "enter the grade for lolo:  96\n",
      "enter name of student3:  rowe\n",
      "enter the grade for rowe:  65\n",
      "enter name of student4:  roro\n",
      "enter the grade for roro:  75\n",
      "enter name of student5:  rob\n",
      "enter the grade for rob:  45\n"
     ]
    }
   ],
   "source": [
    "grades={}\n",
    "n=int(input(\"enter the number of students\"))\n",
    "for i in range(n):\n",
    "    name=input(f\"enter name of student{i+1}: \")\n",
    "    grade=float(input(f\"enter the grade for {name}: \"))\n",
    "    grades[name]=grade"
   ]
  },
  {
   "cell_type": "code",
   "execution_count": 9,
   "id": "c00d6a46-a21c-4fac-893d-345d8d6d5195",
   "metadata": {},
   "outputs": [
    {
     "name": "stdout",
     "output_type": "stream",
     "text": [
      "{'alice': 98.0, 'lolo': 96.0, 'rowe': 65.0, 'roro': 75.0, 'rob': 45.0}\n"
     ]
    }
   ],
   "source": [
    "print(grades)"
   ]
  },
  {
   "cell_type": "code",
   "execution_count": null,
   "id": "fd509276-2f28-410e-be3c-265e10c6c8ca",
   "metadata": {},
   "outputs": [],
   "source": [
    "# calculate the average\n",
    "avg=sum(grades.values())/len(grades)\n",
    "pri"
   ]
  }
 ],
 "metadata": {
  "kernelspec": {
   "display_name": "Python 3 (ipykernel)",
   "language": "python",
   "name": "python3"
  },
  "language_info": {
   "codemirror_mode": {
    "name": "ipython",
    "version": 3
   },
   "file_extension": ".py",
   "mimetype": "text/x-python",
   "name": "python",
   "nbconvert_exporter": "python",
   "pygments_lexer": "ipython3",
   "version": "3.12.4"
  }
 },
 "nbformat": 4,
 "nbformat_minor": 5
}

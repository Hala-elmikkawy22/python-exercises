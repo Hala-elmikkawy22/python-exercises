{
 "cells": [
  {
   "cell_type": "code",
   "execution_count": 16,
   "id": "5a9ad357-daaa-4548-ae4d-d5da4d25de65",
   "metadata": {},
   "outputs": [],
   "source": [
    "def write_to_file (filename, items):\n",
    "    with open(filename, 'w') as file:\n",
    "        for item in items:\n",
    "            file.write(item+'\\n')"
   ]
  },
  {
   "cell_type": "code",
   "execution_count": 21,
   "id": "0058e51c-db8b-4224-9e82-e2808265c653",
   "metadata": {},
   "outputs": [],
   "source": [
    "def read_from_file (filename):\n",
    "    try:\n",
    "        with open(filename, 'r') as file:\n",
    "            items= file.readlines()\n",
    "            print(\"items in the file: \")\n",
    "            for item in items:\n",
    "                print(item.strip())\n",
    "            return items \n",
    "    except FileNotFoundError:\n",
    "        print(\"file doesn't exist\")"
   ]
  },
  {
   "cell_type": "code",
   "execution_count": 24,
   "id": "1ee64a2e-a863-49a7-a51a-3ad10b19cb03",
   "metadata": {},
   "outputs": [],
   "source": [
    "def copy_file(source_file, dest_file):\n",
    "    try:\n",
    "        data = read_from_file(source_file)\n",
    "        with open(dest_file, 'w') as dest:\n",
    "            dest.writelines(data)\n",
    "        print(f\"Contents copied from '{source_file}' to '{dest_file}' successfully.\")\n",
    "    except FileNotFoundError:\n",
    "        print(f\"File '{source_file}' not found.\")"
   ]
  },
  {
   "cell_type": "code",
   "execution_count": 25,
   "id": "5615c2da-d3c6-46ac-ab59-10677b8ef85f",
   "metadata": {},
   "outputs": [
    {
     "name": "stdin",
     "output_type": "stream",
     "text": [
      "Enter the items:  f hb n hmn fd sf b hnj s\n"
     ]
    },
    {
     "name": "stdout",
     "output_type": "stream",
     "text": [
      "items in the file: \n",
      "f\n",
      "hb\n",
      "n\n",
      "hmn\n",
      "fd\n",
      "sf\n",
      "b\n",
      "hnj\n",
      "s\n"
     ]
    },
    {
     "name": "stdin",
     "output_type": "stream",
     "text": [
      "Enter the destination file name:  copy.txt\n"
     ]
    },
    {
     "name": "stdout",
     "output_type": "stream",
     "text": [
      "items in the file: \n",
      "f\n",
      "hb\n",
      "n\n",
      "hmn\n",
      "fd\n",
      "sf\n",
      "b\n",
      "hnj\n",
      "s\n",
      "Contents copied from 'trying.txt' to 'copy.txt' successfully.\n"
     ]
    }
   ],
   "source": [
    "items = input(\"Enter the items: \").split()\n",
    "write_to_file(\"trying.txt\", items)\n",
    "read_from_file(\"trying.txt\")\n",
    "\n",
    "destination = input(\"Enter the destination file name: \")\n",
    "copy_file(\"trying.txt\", destination)\n"
   ]
  },
  {
   "cell_type": "code",
   "execution_count": null,
   "id": "f3bc55fc-4e61-4a83-b619-8b2c67261815",
   "metadata": {},
   "outputs": [],
   "source": []
  }
 ],
 "metadata": {
  "kernelspec": {
   "display_name": "Python 3 (ipykernel)",
   "language": "python",
   "name": "python3"
  },
  "language_info": {
   "codemirror_mode": {
    "name": "ipython",
    "version": 3
   },
   "file_extension": ".py",
   "mimetype": "text/x-python",
   "name": "python",
   "nbconvert_exporter": "python",
   "pygments_lexer": "ipython3",
   "version": "3.12.4"
  }
 },
 "nbformat": 4,
 "nbformat_minor": 5
}

{
 "cells": [
  {
   "cell_type": "code",
   "execution_count": 8,
   "id": "ef1266e9-c7d1-4b57-88f9-d9eb3ac7d057",
   "metadata": {},
   "outputs": [
    {
     "name": "stdin",
     "output_type": "stream",
     "text": [
      "enter the file name:  sample.txt\n"
     ]
    },
    {
     "name": "stdout",
     "output_type": "stream",
     "text": [
      "{'hello': 1, 'there': 1, 'here': 1, 'i': 1, 'am': 1, 'write': 1, 'a': 1, 'txt': 1, 'file': 1, 'to': 1, 'test': 1, 'the': 2, 'code': 1, 'of': 2, 'count': 1, 'lines': 1, 'and': 1, 'words': 2, 'repetation': 1}\n"
     ]
    }
   ],
   "source": [
    "def read_file(filename):\n",
    "    try:\n",
    "        with open(filename,'r') as file:\n",
    "            words=[]\n",
    "            lines=file.readlines()\n",
    "            for line in lines:\n",
    "                # words = line.split()                             # this doesn't work, the output was the last line only  \n",
    "                #words.extend(line.split())                       #note --> Adds each element from that list to the existing words list.\n",
    "                words += line.split()\n",
    "            return words\n",
    "    except FileNotFoundError:\n",
    "        print(\"file not found\")\n",
    "\n",
    "\n",
    "def count_words (words):\n",
    "    word_count={}\n",
    "    for word in words:\n",
    "        word = word.lower()\n",
    "        if word in word_count:\n",
    "            word_count[word] += 1\n",
    "        else:\n",
    "            word_count[word] = 1\n",
    "    return word_count\n",
    "            \n",
    "filename = input(\"enter the file name: \")\n",
    "words = read_file(filename)\n",
    "word_count = count_words(words)\n",
    "print(word_count)\n",
    "            "
   ]
  },
  {
   "cell_type": "code",
   "execution_count": null,
   "id": "917f10a4-abfd-498d-9515-70cfeaa62388",
   "metadata": {},
   "outputs": [],
   "source": []
  }
 ],
 "metadata": {
  "kernelspec": {
   "display_name": "Python 3 (ipykernel)",
   "language": "python",
   "name": "python3"
  },
  "language_info": {
   "codemirror_mode": {
    "name": "ipython",
    "version": 3
   },
   "file_extension": ".py",
   "mimetype": "text/x-python",
   "name": "python",
   "nbconvert_exporter": "python",
   "pygments_lexer": "ipython3",
   "version": "3.12.4"
  }
 },
 "nbformat": 4,
 "nbformat_minor": 5
}

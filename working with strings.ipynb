{
 "cells": [
  {
   "cell_type": "code",
   "execution_count": 1,
   "id": "90a91923-3b52-4f71-b20b-081d848c39e2",
   "metadata": {},
   "outputs": [
    {
     "name": "stdout",
     "output_type": "stream",
     "text": [
      "['123', '456', '789']\n"
     ]
    }
   ],
   "source": [
    "import re\n",
    "text = \"contact me at 123-456-789\"\n",
    "digits=re.findall(r\"\\d+\",text)\n",
    "print(digits)"
   ]
  },
  {
   "cell_type": "code",
   "execution_count": 3,
   "id": "ced2bf26-5b47-40e9-9492-133500f24281",
   "metadata": {},
   "outputs": [
    {
     "name": "stdout",
     "output_type": "stream",
     "text": [
      "contact me at ***-***-***\n"
     ]
    }
   ],
   "source": [
    "update_text=re.sub(r\"\\d\",\"*\",text)\n",
    "print(update_text)"
   ]
  },
  {
   "cell_type": "code",
   "execution_count": 6,
   "id": "a31da9c1-aa83-49ed-bd42-1826a46008e6",
   "metadata": {},
   "outputs": [
    {
     "name": "stdin",
     "output_type": "stream",
     "text": [
      "enter the text:        hello,, wordS.!@!!! i Am    writting an unclEAnd ?tExt\n"
     ]
    },
    {
     "name": "stdout",
     "output_type": "stream",
     "text": [
      "cleaned text: hello words i am writting an uncleand text\n"
     ]
    }
   ],
   "source": [
    "#clean the text \n",
    "import re\n",
    "input_text= input(\"enter the text: \")\n",
    "def clean_text(text):\n",
    "    #remove punctuation\n",
    "    text = re.sub(r\"[^\\w\\s]\",\"\",text)\n",
    "    #remove extra spaces\n",
    "    text=text.split()\n",
    "    text=\" \".join(text)\n",
    "    #convert to lowercase\n",
    "    return text.lower()\n",
    "cleaned_text= clean_text(input_text)\n",
    "print(\"cleaned text:\", cleaned_text)"
   ]
  },
  {
   "cell_type": "code",
   "execution_count": null,
   "id": "85467c48-7915-4438-8f00-00bee89ef879",
   "metadata": {},
   "outputs": [],
   "source": []
  },
  {
   "cell_type": "code",
   "execution_count": null,
   "id": "effbd99c-260a-4c15-8c65-e1c16cede1a2",
   "metadata": {},
   "outputs": [],
   "source": []
  },
  {
   "cell_type": "code",
   "execution_count": null,
   "id": "e8502d50-9612-4317-bac8-aa1e7b67dd12",
   "metadata": {},
   "outputs": [],
   "source": [
    "# write a program to reverse the word in a sentence, not the letters\n",
    "sentance = input(\"enter the sentance: \")\n",
    "words = sentance.split()\n",
    "rev_words = words[::-1]\n",
    "rev_sentance =\" \".join(rev_words)\n",
    "print(\"the reverse sentance: \", rev_sentance)"
   ]
  },
  {
   "cell_type": "code",
   "execution_count": null,
   "id": "ec39c397-ddee-4cea-be9a-90c8afd2ca17",
   "metadata": {},
   "outputs": [],
   "source": []
  }
 ],
 "metadata": {
  "kernelspec": {
   "display_name": "Python 3 (ipykernel)",
   "language": "python",
   "name": "python3"
  },
  "language_info": {
   "codemirror_mode": {
    "name": "ipython",
    "version": 3
   },
   "file_extension": ".py",
   "mimetype": "text/x-python",
   "name": "python",
   "nbconvert_exporter": "python",
   "pygments_lexer": "ipython3",
   "version": "3.12.4"
  }
 },
 "nbformat": 4,
 "nbformat_minor": 5
}

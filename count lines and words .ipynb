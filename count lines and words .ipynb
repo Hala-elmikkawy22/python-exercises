{
 "cells": [
  {
   "cell_type": "code",
   "execution_count": 1,
   "id": "51c9ca28-6e61-4eed-80f5-c6ca6d04f8e8",
   "metadata": {},
   "outputs": [],
   "source": [
    "# count lines and words in particular file "
   ]
  },
  {
   "cell_type": "code",
   "execution_count": 5,
   "id": "7a635087-81e4-43bd-aec1-a795040ce2c1",
   "metadata": {},
   "outputs": [
    {
     "name": "stdin",
     "output_type": "stream",
     "text": [
      "Enter the file name:  sample.txt\n"
     ]
    },
    {
     "name": "stdout",
     "output_type": "stream",
     "text": [
      "Number of lines: 6\n",
      "number of words: 6\n"
     ]
    }
   ],
   "source": [
    "def count_lines_words (filename):\n",
    "    try:\n",
    "        with open(filename, \"r\") as file:\n",
    "            lines= file.readlines()\n",
    "            line_count = len(lines)\n",
    "            word_count = sum(len(line.split())for line in lines)\n",
    "            print(f\"Number of lines: {line_count}\")\n",
    "            print(f\"number of words: {word_count}\")\n",
    "    except FileNotFoundError:\n",
    "        print(f\"file {filename} not found\")\n",
    "filename = input (\"Enter the file name: \")\n",
    "count_lines_words(filename)"
   ]
  },
  {
   "cell_type": "code",
   "execution_count": null,
   "id": "cce67faf-0193-4bcc-a4ca-3a93ae03c0db",
   "metadata": {},
   "outputs": [],
   "source": []
  }
 ],
 "metadata": {
  "kernelspec": {
   "display_name": "Python 3 (ipykernel)",
   "language": "python",
   "name": "python3"
  },
  "language_info": {
   "codemirror_mode": {
    "name": "ipython",
    "version": 3
   },
   "file_extension": ".py",
   "mimetype": "text/x-python",
   "name": "python",
   "nbconvert_exporter": "python",
   "pygments_lexer": "ipython3",
   "version": "3.12.4"
  }
 },
 "nbformat": 4,
 "nbformat_minor": 5
}

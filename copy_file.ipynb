{
 "cells": [
  {
   "cell_type": "code",
   "execution_count": 1,
   "id": "6294458e-c936-4230-9e5f-fbf4fdef1849",
   "metadata": {},
   "outputs": [
    {
     "name": "stdin",
     "output_type": "stream",
     "text": [
      "Enter the source file name:  sample.txt\n",
      "Enter the destination file name:  saple1.txt\n"
     ]
    },
    {
     "name": "stdout",
     "output_type": "stream",
     "text": [
      "Contents copied from 'sample.txt' to 'saple1.txt' successfully.\n"
     ]
    }
   ],
   "source": [
    "def copy_file(source_file, dest_file):\n",
    "    try:\n",
    "        with open(source_file,\"r\") as src:\n",
    "            data=src.read()\n",
    "        with open (dest_file, 'w')as dest:\n",
    "            dest.write(data)\n",
    "        print(f\"Contents copied from '{source_file}' to '{dest_file}' successfully.\")\n",
    "\n",
    "    except FileNotFoundError:\n",
    "        print(f\"file {source_file} not found\")\n",
    "\n",
    "source = input(\"Enter the source file name: \")\n",
    "destination = input(\"Enter the destination file name: \")\n",
    "\n",
    "copy_file(source, destination)\n",
    "        "
   ]
  },
  {
   "cell_type": "code",
   "execution_count": null,
   "id": "e4b7004f-4b7c-4d04-9257-93a818a12e7b",
   "metadata": {},
   "outputs": [],
   "source": []
  }
 ],
 "metadata": {
  "kernelspec": {
   "display_name": "Python 3 (ipykernel)",
   "language": "python",
   "name": "python3"
  },
  "language_info": {
   "codemirror_mode": {
    "name": "ipython",
    "version": 3
   },
   "file_extension": ".py",
   "mimetype": "text/x-python",
   "name": "python",
   "nbconvert_exporter": "python",
   "pygments_lexer": "ipython3",
   "version": "3.12.4"
  }
 },
 "nbformat": 4,
 "nbformat_minor": 5
}

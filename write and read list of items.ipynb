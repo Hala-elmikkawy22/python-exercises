{
 "cells": [
  {
   "cell_type": "code",
   "execution_count": 5,
   "id": "b4665afd-8518-4f41-ad03-c2f2c0755f55",
   "metadata": {},
   "outputs": [],
   "source": [
    "# write and read list of items taken from user"
   ]
  },
  {
   "cell_type": "code",
   "execution_count": 6,
   "id": "4b30fade-950b-48f4-883d-45b1246c5770",
   "metadata": {},
   "outputs": [],
   "source": [
    "def write_to_file (filename, items):\n",
    "    with open(filename, 'w') as file:\n",
    "        for item in items:\n",
    "            file.write(item+'\\n')"
   ]
  },
  {
   "cell_type": "code",
   "execution_count": 7,
   "id": "d67c38b7-bd3e-4a62-a13f-1a4bd7c2e914",
   "metadata": {},
   "outputs": [],
   "source": [
    "def read_from_file (filename):\n",
    "    try:\n",
    "        with open(filename, 'r') as file:\n",
    "            items= file.readlines()\n",
    "            print(\"items in the file: \")\n",
    "            for item in items:\n",
    "                print(item.strip())\n",
    "    except FileNotFoundError:\n",
    "        print(\"file doesn't exist\")"
   ]
  },
  {
   "cell_type": "code",
   "execution_count": 8,
   "id": "ed6926d2-1759-43a6-8c73-893006671432",
   "metadata": {},
   "outputs": [
    {
     "name": "stdin",
     "output_type": "stream",
     "text": [
      "enter the items hala mo ibo essa \n"
     ]
    },
    {
     "name": "stdout",
     "output_type": "stream",
     "text": [
      "items in the file: \n",
      "hala\n",
      "mo\n",
      "ibo\n",
      "essa\n"
     ]
    }
   ],
   "source": [
    "items = input (\"enter the items\").split()\n",
    "write_to_file(\"items.txt\",items)\n",
    "read_from_file(\"items.txt\")"
   ]
  },
  {
   "cell_type": "code",
   "execution_count": null,
   "id": "b8aa4a8b-c070-43a5-9df3-4b5ff976a7b7",
   "metadata": {},
   "outputs": [],
   "source": []
  }
 ],
 "metadata": {
  "kernelspec": {
   "display_name": "Python 3 (ipykernel)",
   "language": "python",
   "name": "python3"
  },
  "language_info": {
   "codemirror_mode": {
    "name": "ipython",
    "version": 3
   },
   "file_extension": ".py",
   "mimetype": "text/x-python",
   "name": "python",
   "nbconvert_exporter": "python",
   "pygments_lexer": "ipython3",
   "version": "3.12.4"
  }
 },
 "nbformat": 4,
 "nbformat_minor": 5
}

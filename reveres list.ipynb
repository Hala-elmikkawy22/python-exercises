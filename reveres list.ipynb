{
 "cells": [
  {
   "cell_type": "code",
   "execution_count": 14,
   "id": "2522385d-ef16-4f49-93f8-4c23ad0c6197",
   "metadata": {},
   "outputs": [
    {
     "name": "stdout",
     "output_type": "stream",
     "text": [
      "[3, 4, 5, 4, 3, 2, 1]\n"
     ]
    }
   ],
   "source": [
    "list=[1, 2, 3, 4, 5 ,4 ,3]\n",
    "rev_list=list[::-1]\n",
    "print(rev_list)"
   ]
  },
  {
   "cell_type": "code",
   "execution_count": 17,
   "id": "484db352-a10c-40d8-ae73-f0c6d4c4ebed",
   "metadata": {},
   "outputs": [],
   "source": [
    "set_num=set(list)"
   ]
  },
  {
   "cell_type": "code",
   "execution_count": 18,
   "id": "2973228a-6f7c-49ef-8259-c7fb340bbc7c",
   "metadata": {},
   "outputs": [
    {
     "name": "stdout",
     "output_type": "stream",
     "text": [
      "{1, 2, 3, 4, 5}\n"
     ]
    }
   ],
   "source": [
    "print(set_num)"
   ]
  },
  {
   "cell_type": "code",
   "execution_count": null,
   "id": "3859a28a-19aa-4b0f-9d5c-75c9b2a61bd0",
   "metadata": {},
   "outputs": [],
   "source": []
  }
 ],
 "metadata": {
  "kernelspec": {
   "display_name": "Python 3 (ipykernel)",
   "language": "python",
   "name": "python3"
  },
  "language_info": {
   "codemirror_mode": {
    "name": "ipython",
    "version": 3
   },
   "file_extension": ".py",
   "mimetype": "text/x-python",
   "name": "python",
   "nbconvert_exporter": "python",
   "pygments_lexer": "ipython3",
   "version": "3.12.4"
  }
 },
 "nbformat": 4,
 "nbformat_minor": 5
}
